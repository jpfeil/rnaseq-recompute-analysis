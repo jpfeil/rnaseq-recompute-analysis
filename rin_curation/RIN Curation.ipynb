{
 "cells": [
  {
   "cell_type": "code",
   "execution_count": 56,
   "metadata": {
    "collapsed": true
   },
   "outputs": [],
   "source": [
    "%matplotlib inline\n",
    "import pandas as pd\n",
    "import numpy as np\n",
    "import matplotlib.pyplot as plt\n",
    "import seaborn as sns\n",
    "import os\n",
    "import numpy as np"
   ]
  },
  {
   "cell_type": "markdown",
   "metadata": {},
   "source": [
    "# RIN Curation\n",
    "\n",
    "Read in table of RNA Integrity Numbers (RINs). This table was made by concatenating all of the analyte tables taken from **biospecimen data** from the [GDC legacy site](https://gdc-portal.nci.nih.gov/legacy-archive). The data is not available on the [new GDC site](https://gdc-portal.nci.nih.gov), nor from their API, despite being listed as a [valid endpoint](https://gdc-docs.nci.nih.gov/API/Users_Guide/Search_and_Retrieval/#cases-endpoint).\n",
    "\n",
    "Commands to create combined table\n",
    "```bash\n",
    "head -1 nationwidechildrens.org_biospecimen_analyte_acc.txt > header\n",
    "for i in *; do sed '1,2d' $i > $i.fixed; done\n",
    "cat header *fixed > biospecimen_analyte_combined.tsv\n",
    "```\n",
    "\n",
    "The biospecimen_analyte_combined.tsv can be downloaded from [Synapse](Synapse.org) under the id: `syn7499603`."
   ]
  },
  {
   "cell_type": "code",
   "execution_count": 172,
   "metadata": {
    "collapsed": false
   },
   "outputs": [
    {
     "data": {
      "text/html": [
       "<div>\n",
       "<table border=\"1\" class=\"dataframe\">\n",
       "  <thead>\n",
       "    <tr style=\"text-align: right;\">\n",
       "      <th></th>\n",
       "      <th>bcr_patient_uuid</th>\n",
       "      <th>bcr_sample_barcode</th>\n",
       "      <th>bcr_analyte_barcode</th>\n",
       "      <th>bcr_analyte_uuid</th>\n",
       "      <th>a260_a280_ratio</th>\n",
       "      <th>analyte_type</th>\n",
       "      <th>analyte_type_id</th>\n",
       "      <th>concentration</th>\n",
       "      <th>gel_image_file</th>\n",
       "      <th>is_derived_from_ffpe</th>\n",
       "      <th>normal_tumor_genotype_match</th>\n",
       "      <th>pcr_amplification_successful</th>\n",
       "      <th>ratio_28s_18s</th>\n",
       "      <th>rinvalue</th>\n",
       "      <th>spectrophotometer_method</th>\n",
       "      <th>subportion_sequence</th>\n",
       "      <th>well_number</th>\n",
       "    </tr>\n",
       "  </thead>\n",
       "  <tbody>\n",
       "    <tr>\n",
       "      <th>0</th>\n",
       "      <td>B3164F7B-C826-4E08-9EE6-8FF96D29B913</td>\n",
       "      <td>TCGA-OR-A5J1-01A</td>\n",
       "      <td>TCGA-OR-A5J1-01A-11D</td>\n",
       "      <td>56146956-9343-4C85-A9D1-AC708CA78E7E</td>\n",
       "      <td>[Not Available]</td>\n",
       "      <td>DNA</td>\n",
       "      <td>D</td>\n",
       "      <td>0.15</td>\n",
       "      <td>https://sharedoc.nchri.org/tcga-bcr/default.aspx</td>\n",
       "      <td>NO</td>\n",
       "      <td>YES</td>\n",
       "      <td>YES</td>\n",
       "      <td>[Not Available]</td>\n",
       "      <td>[Not Available]</td>\n",
       "      <td>PicoGreen</td>\n",
       "      <td>1</td>\n",
       "      <td>[Not Available]</td>\n",
       "    </tr>\n",
       "    <tr>\n",
       "      <th>1</th>\n",
       "      <td>B3164F7B-C826-4E08-9EE6-8FF96D29B913</td>\n",
       "      <td>TCGA-OR-A5J1-01A</td>\n",
       "      <td>TCGA-OR-A5J1-01A-11R</td>\n",
       "      <td>B3BD12BD-0655-4E1F-8EDB-E1E88E1A29A9</td>\n",
       "      <td>1.87</td>\n",
       "      <td>RNA</td>\n",
       "      <td>R</td>\n",
       "      <td>0.18</td>\n",
       "      <td>https://sharedoc.nchri.org/tcga-bcr/default.aspx</td>\n",
       "      <td>NO</td>\n",
       "      <td>[Not Available]</td>\n",
       "      <td>[Not Available]</td>\n",
       "      <td>1.37</td>\n",
       "      <td>8.50</td>\n",
       "      <td>UV Spec</td>\n",
       "      <td>1</td>\n",
       "      <td>[Not Available]</td>\n",
       "    </tr>\n",
       "  </tbody>\n",
       "</table>\n",
       "</div>"
      ],
      "text/plain": [
       "                       bcr_patient_uuid bcr_sample_barcode  \\\n",
       "0  B3164F7B-C826-4E08-9EE6-8FF96D29B913   TCGA-OR-A5J1-01A   \n",
       "1  B3164F7B-C826-4E08-9EE6-8FF96D29B913   TCGA-OR-A5J1-01A   \n",
       "\n",
       "    bcr_analyte_barcode                      bcr_analyte_uuid  \\\n",
       "0  TCGA-OR-A5J1-01A-11D  56146956-9343-4C85-A9D1-AC708CA78E7E   \n",
       "1  TCGA-OR-A5J1-01A-11R  B3BD12BD-0655-4E1F-8EDB-E1E88E1A29A9   \n",
       "\n",
       "   a260_a280_ratio analyte_type analyte_type_id concentration  \\\n",
       "0  [Not Available]          DNA               D          0.15   \n",
       "1             1.87          RNA               R          0.18   \n",
       "\n",
       "                                     gel_image_file is_derived_from_ffpe  \\\n",
       "0  https://sharedoc.nchri.org/tcga-bcr/default.aspx                   NO   \n",
       "1  https://sharedoc.nchri.org/tcga-bcr/default.aspx                   NO   \n",
       "\n",
       "  normal_tumor_genotype_match pcr_amplification_successful    ratio_28s_18s  \\\n",
       "0                         YES                          YES  [Not Available]   \n",
       "1             [Not Available]              [Not Available]             1.37   \n",
       "\n",
       "          rinvalue spectrophotometer_method subportion_sequence  \\\n",
       "0  [Not Available]                PicoGreen                   1   \n",
       "1             8.50                  UV Spec                   1   \n",
       "\n",
       "       well_number  \n",
       "0  [Not Available]  \n",
       "1  [Not Available]  "
      ]
     },
     "execution_count": 172,
     "metadata": {},
     "output_type": "execute_result"
    }
   ],
   "source": [
    "df = pd.read_csv('biospecimen_analyted_combined.tsv', sep='\\t')\n",
    "df.head(2)"
   ]
  },
  {
   "cell_type": "markdown",
   "metadata": {},
   "source": [
    "Subset dataframe"
   ]
  },
  {
   "cell_type": "code",
   "execution_count": 106,
   "metadata": {
    "collapsed": true
   },
   "outputs": [],
   "source": [
    "rin = df[df.analyte_type == 'RNA']"
   ]
  },
  {
   "cell_type": "markdown",
   "metadata": {},
   "source": [
    "Cast RIN values as numbers, non-values as NaNs. Pandas reads this column type in as strings (dtype O) by default since not every value in the column is numeric."
   ]
  },
  {
   "cell_type": "code",
   "execution_count": 113,
   "metadata": {
    "collapsed": false
   },
   "outputs": [
    {
     "data": {
      "text/plain": [
       "dtype('O')"
      ]
     },
     "execution_count": 113,
     "metadata": {},
     "output_type": "execute_result"
    }
   ],
   "source": [
    "rin.rinvalue.dtypes"
   ]
  },
  {
   "cell_type": "code",
   "execution_count": 114,
   "metadata": {
    "collapsed": false
   },
   "outputs": [],
   "source": [
    "rin.rinvalue = pd.to_numeric(rin.rinvalue, errors='coerce')"
   ]
  },
  {
   "cell_type": "markdown",
   "metadata": {},
   "source": [
    "Cast UUIDs as lowercase to match TCGA table"
   ]
  },
  {
   "cell_type": "code",
   "execution_count": 115,
   "metadata": {
    "collapsed": true
   },
   "outputs": [],
   "source": [
    "rin.bcr_patient_uuid = rin.bcr_patient_uuid.apply(lambda x: x.lower())"
   ]
  },
  {
   "cell_type": "code",
   "execution_count": 116,
   "metadata": {
    "collapsed": false
   },
   "outputs": [
    {
     "data": {
      "text/html": [
       "<div>\n",
       "<table border=\"1\" class=\"dataframe\">\n",
       "  <thead>\n",
       "    <tr style=\"text-align: right;\">\n",
       "      <th></th>\n",
       "      <th>bcr_patient_uuid</th>\n",
       "      <th>bcr_sample_barcode</th>\n",
       "      <th>bcr_analyte_barcode</th>\n",
       "      <th>bcr_analyte_uuid</th>\n",
       "      <th>a260_a280_ratio</th>\n",
       "      <th>analyte_type</th>\n",
       "      <th>analyte_type_id</th>\n",
       "      <th>concentration</th>\n",
       "      <th>gel_image_file</th>\n",
       "      <th>is_derived_from_ffpe</th>\n",
       "      <th>normal_tumor_genotype_match</th>\n",
       "      <th>pcr_amplification_successful</th>\n",
       "      <th>ratio_28s_18s</th>\n",
       "      <th>rinvalue</th>\n",
       "      <th>spectrophotometer_method</th>\n",
       "      <th>subportion_sequence</th>\n",
       "      <th>well_number</th>\n",
       "    </tr>\n",
       "  </thead>\n",
       "  <tbody>\n",
       "    <tr>\n",
       "      <th>1</th>\n",
       "      <td>b3164f7b-c826-4e08-9ee6-8ff96d29b913</td>\n",
       "      <td>TCGA-OR-A5J1-01A</td>\n",
       "      <td>TCGA-OR-A5J1-01A-11R</td>\n",
       "      <td>B3BD12BD-0655-4E1F-8EDB-E1E88E1A29A9</td>\n",
       "      <td>1.87</td>\n",
       "      <td>RNA</td>\n",
       "      <td>R</td>\n",
       "      <td>0.18</td>\n",
       "      <td>https://sharedoc.nchri.org/tcga-bcr/default.aspx</td>\n",
       "      <td>NO</td>\n",
       "      <td>[Not Available]</td>\n",
       "      <td>[Not Available]</td>\n",
       "      <td>1.37</td>\n",
       "      <td>8.5</td>\n",
       "      <td>UV Spec</td>\n",
       "      <td>1</td>\n",
       "      <td>[Not Available]</td>\n",
       "    </tr>\n",
       "    <tr>\n",
       "      <th>6</th>\n",
       "      <td>8e7c2e31-d085-4b75-a970-162526dd07a0</td>\n",
       "      <td>TCGA-OR-A5J2-01A</td>\n",
       "      <td>TCGA-OR-A5J2-01A-11R</td>\n",
       "      <td>9288D083-5303-4456-9208-C81FD8E5F374</td>\n",
       "      <td>1.83</td>\n",
       "      <td>RNA</td>\n",
       "      <td>R</td>\n",
       "      <td>0.17</td>\n",
       "      <td>https://sharedoc.nchri.org/tcga-bcr/default.aspx</td>\n",
       "      <td>NO</td>\n",
       "      <td>[Not Available]</td>\n",
       "      <td>[Not Available]</td>\n",
       "      <td>1.61</td>\n",
       "      <td>9.0</td>\n",
       "      <td>UV Spec</td>\n",
       "      <td>1</td>\n",
       "      <td>[Not Available]</td>\n",
       "    </tr>\n",
       "  </tbody>\n",
       "</table>\n",
       "</div>"
      ],
      "text/plain": [
       "                       bcr_patient_uuid bcr_sample_barcode  \\\n",
       "1  b3164f7b-c826-4e08-9ee6-8ff96d29b913   TCGA-OR-A5J1-01A   \n",
       "6  8e7c2e31-d085-4b75-a970-162526dd07a0   TCGA-OR-A5J2-01A   \n",
       "\n",
       "    bcr_analyte_barcode                      bcr_analyte_uuid a260_a280_ratio  \\\n",
       "1  TCGA-OR-A5J1-01A-11R  B3BD12BD-0655-4E1F-8EDB-E1E88E1A29A9            1.87   \n",
       "6  TCGA-OR-A5J2-01A-11R  9288D083-5303-4456-9208-C81FD8E5F374            1.83   \n",
       "\n",
       "  analyte_type analyte_type_id concentration  \\\n",
       "1          RNA               R          0.18   \n",
       "6          RNA               R          0.17   \n",
       "\n",
       "                                     gel_image_file is_derived_from_ffpe  \\\n",
       "1  https://sharedoc.nchri.org/tcga-bcr/default.aspx                   NO   \n",
       "6  https://sharedoc.nchri.org/tcga-bcr/default.aspx                   NO   \n",
       "\n",
       "  normal_tumor_genotype_match pcr_amplification_successful ratio_28s_18s  \\\n",
       "1             [Not Available]              [Not Available]          1.37   \n",
       "6             [Not Available]              [Not Available]          1.61   \n",
       "\n",
       "   rinvalue spectrophotometer_method subportion_sequence      well_number  \n",
       "1       8.5                  UV Spec                   1  [Not Available]  \n",
       "6       9.0                  UV Spec                   1  [Not Available]  "
      ]
     },
     "execution_count": 116,
     "metadata": {},
     "output_type": "execute_result"
    }
   ],
   "source": [
    "rin.head(2)"
   ]
  },
  {
   "cell_type": "markdown",
   "metadata": {},
   "source": [
    "We need to reset the pandas index, otherwise when we create a new dataframe using the `rinvalue` and `bcr_patient_uuid`, the index carried along in the `Series` information will create problems."
   ]
  },
  {
   "cell_type": "code",
   "execution_count": 221,
   "metadata": {
    "collapsed": true
   },
   "outputs": [],
   "source": [
    "rin.reset_index(inplace=True)"
   ]
  },
  {
   "cell_type": "markdown",
   "metadata": {},
   "source": [
    "Let's plot the distribution of RIN values, excluding NaNs. GTEx recommends only using data that has an RIN of 6 or above."
   ]
  },
  {
   "cell_type": "code",
   "execution_count": 245,
   "metadata": {
    "collapsed": false,
    "scrolled": true
   },
   "outputs": [
    {
     "data": {
      "image/png": "[encoded data removed]",
      "text/plain": [
       "<matplotlib.figure.Figure at 0x128731e50>"
      ]
     },
     "metadata": {},
     "output_type": "display_data"
    }
   ],
   "source": [
    "plt.hist(rin[pd.notnull(rin.rinvalue)].rinvalue, bins=50);\n",
    "plt.savefig('RIN_distribution.pdf', format='pdf')"
   ]
  },
  {
   "cell_type": "code",
   "execution_count": 123,
   "metadata": {
    "collapsed": false
   },
   "outputs": [
    {
     "name": "stdout",
     "output_type": "stream",
     "text": [
      "Number of RIN < 6: 76\n"
     ]
    }
   ],
   "source": [
    "print 'Number of RIN < 6: ' + str(len(rin[rin.rinvalue < 6].rinvalue))"
   ]
  },
  {
   "cell_type": "markdown",
   "metadata": {},
   "source": [
    "How much of the data does not have an RIN?"
   ]
  },
  {
   "cell_type": "code",
   "execution_count": 223,
   "metadata": {
    "collapsed": false
   },
   "outputs": [
    {
     "name": "stdout",
     "output_type": "stream",
     "text": [
      "Number of samples: 13402\n",
      "Number of NaNs: 470\n",
      "Percentage: 0.04%\n"
     ]
    }
   ],
   "source": [
    "print 'Number of samples: ' + str(len(rin))\n",
    "print 'Number of NaNs: ' + str(rin.rinvalue.isnull().sum())\n",
    "print 'Percentage: {}%'.format(round(rin.rinvalue.isnull().sum()*1.0 / len(rin), 2))"
   ]
  },
  {
   "cell_type": "markdown",
   "metadata": {},
   "source": [
    "## Creating a Table of RIN / Diseases / Analysis IDs\n",
    "The GDC table associates an RIN value with a *bcr_patient_uuid*. This UUID can be associated with an *analysis_id* that all of the recompute data is tagged through a TCGA metadata table. We'll boil this down to a 3-column table: analysis_id, disease_name, and rinvalue"
   ]
  },
  {
   "cell_type": "code",
   "execution_count": 81,
   "metadata": {
    "collapsed": true
   },
   "outputs": [],
   "source": [
    "tcga = pd.read_csv('unaligned.tsv', sep='\\t')"
   ]
  },
  {
   "cell_type": "code",
   "execution_count": 100,
   "metadata": {
    "collapsed": false
   },
   "outputs": [
    {
     "data": {
      "text/html": [
       "<div>\n",
       "<table border=\"1\" class=\"dataframe\">\n",
       "  <thead>\n",
       "    <tr style=\"text-align: right;\">\n",
       "      <th></th>\n",
       "      <th>study</th>\n",
       "      <th>barcode</th>\n",
       "      <th>disease</th>\n",
       "      <th>disease_name</th>\n",
       "      <th>sample_type</th>\n",
       "      <th>sample_type_name</th>\n",
       "      <th>analyte_type</th>\n",
       "      <th>library_type</th>\n",
       "      <th>center</th>\n",
       "      <th>center_name</th>\n",
       "      <th>...</th>\n",
       "      <th>aliquot_id</th>\n",
       "      <th>participant_id</th>\n",
       "      <th>sample_id</th>\n",
       "      <th>tss_id</th>\n",
       "      <th>sample_accession</th>\n",
       "      <th>published</th>\n",
       "      <th>uploaded</th>\n",
       "      <th>modified</th>\n",
       "      <th>state</th>\n",
       "      <th>reason</th>\n",
       "    </tr>\n",
       "  </thead>\n",
       "  <tbody>\n",
       "    <tr>\n",
       "      <th>0</th>\n",
       "      <td>TCGA</td>\n",
       "      <td>TCGA-DQ-5630-01A-01R-1873-07</td>\n",
       "      <td>HNSC</td>\n",
       "      <td>Head and Neck squamous cell carcinoma</td>\n",
       "      <td>TP</td>\n",
       "      <td>1</td>\n",
       "      <td>RNA</td>\n",
       "      <td>RNA-Seq</td>\n",
       "      <td>UNC-LCCC</td>\n",
       "      <td>UNC-LCCC</td>\n",
       "      <td>...</td>\n",
       "      <td>13c839d1-f77b-4bde-9bd5-8d5165d94346</td>\n",
       "      <td>91a712b5-a724-48d0-ba06-4f6857683463</td>\n",
       "      <td>a0cdb208-e66f-4ad7-86fa-5077145a4a68</td>\n",
       "      <td>DQ</td>\n",
       "      <td></td>\n",
       "      <td>2013-09-27</td>\n",
       "      <td>2013-09-25</td>\n",
       "      <td>2013-09-27</td>\n",
       "      <td>Live</td>\n",
       "      <td></td>\n",
       "    </tr>\n",
       "  </tbody>\n",
       "</table>\n",
       "<p>1 rows × 27 columns</p>\n",
       "</div>"
      ],
      "text/plain": [
       "  study                       barcode disease  \\\n",
       "0  TCGA  TCGA-DQ-5630-01A-01R-1873-07    HNSC   \n",
       "\n",
       "                            disease_name sample_type  sample_type_name  \\\n",
       "0  Head and Neck squamous cell carcinoma          TP                 1   \n",
       "\n",
       "  analyte_type library_type    center center_name  ...    \\\n",
       "0          RNA      RNA-Seq  UNC-LCCC    UNC-LCCC  ...     \n",
       "\n",
       "                             aliquot_id                        participant_id  \\\n",
       "0  13c839d1-f77b-4bde-9bd5-8d5165d94346  91a712b5-a724-48d0-ba06-4f6857683463   \n",
       "\n",
       "                              sample_id tss_id  sample_accession   published  \\\n",
       "0  a0cdb208-e66f-4ad7-86fa-5077145a4a68     DQ                    2013-09-27   \n",
       "\n",
       "     uploaded    modified state reason  \n",
       "0  2013-09-25  2013-09-27  Live         \n",
       "\n",
       "[1 rows x 27 columns]"
      ]
     },
     "execution_count": 100,
     "metadata": {},
     "output_type": "execute_result"
    }
   ],
   "source": [
    "tcga.head(1)"
   ]
  },
  {
   "cell_type": "markdown",
   "metadata": {},
   "source": [
    "Create dataframe and columns. The `.max()` function is a clunky way to pull a single value out of a Series with one value, without the additional pandas info."
   ]
  },
  {
   "cell_type": "code",
   "execution_count": 225,
   "metadata": {
    "collapsed": false
   },
   "outputs": [],
   "source": [
    "patient_ids = rin.bcr_patient_uuid\n",
    "rinvalues = rin.rinvalue\n",
    "analysis_ids = [tcga[tcga.participant_id == x].analysis_id.max() for x in patient_ids]\n",
    "diseases = [tcga[tcga.analysis_id == x].disease_name.max() for x in analysis_ids]"
   ]
  },
  {
   "cell_type": "code",
   "execution_count": 227,
   "metadata": {
    "collapsed": false
   },
   "outputs": [],
   "source": [
    "out = pd.DataFrame()\n",
    "out['analysis_id'] = analysis_ids\n",
    "out['rin'] = rinvalues\n",
    "out['disease'] = diseases"
   ]
  },
  {
   "cell_type": "code",
   "execution_count": 228,
   "metadata": {
    "collapsed": false,
    "scrolled": false
   },
   "outputs": [
    {
     "data": {
      "text/html": [
       "<div>\n",
       "<table border=\"1\" class=\"dataframe\">\n",
       "  <thead>\n",
       "    <tr style=\"text-align: right;\">\n",
       "      <th></th>\n",
       "      <th>analysis_id</th>\n",
       "      <th>rin</th>\n",
       "      <th>disease</th>\n",
       "    </tr>\n",
       "  </thead>\n",
       "  <tbody>\n",
       "    <tr>\n",
       "      <th>0</th>\n",
       "      <td>cdae7e4e-1338-4267-a0f2-98074510a090</td>\n",
       "      <td>8.5</td>\n",
       "      <td>Adrenocortical carcinoma</td>\n",
       "    </tr>\n",
       "    <tr>\n",
       "      <th>1</th>\n",
       "      <td>f3b57849-0302-47b0-9e3b-7cbe9de07056</td>\n",
       "      <td>9.0</td>\n",
       "      <td>Adrenocortical carcinoma</td>\n",
       "    </tr>\n",
       "  </tbody>\n",
       "</table>\n",
       "</div>"
      ],
      "text/plain": [
       "                            analysis_id  rin                   disease\n",
       "0  cdae7e4e-1338-4267-a0f2-98074510a090  8.5  Adrenocortical carcinoma\n",
       "1  f3b57849-0302-47b0-9e3b-7cbe9de07056  9.0  Adrenocortical carcinoma"
      ]
     },
     "execution_count": 228,
     "metadata": {},
     "output_type": "execute_result"
    }
   ],
   "source": [
    "out.head(2)"
   ]
  },
  {
   "cell_type": "markdown",
   "metadata": {},
   "source": [
    "Drop rows where there are null values in the analysis_id column."
   ]
  },
  {
   "cell_type": "code",
   "execution_count": 233,
   "metadata": {
    "collapsed": true
   },
   "outputs": [],
   "source": [
    "out = out[pd.notnull(out.analysis_id)]"
   ]
  },
  {
   "cell_type": "markdown",
   "metadata": {},
   "source": [
    "### Questions about the data\n",
    "Which samples have RIN values less than 6?"
   ]
  },
  {
   "cell_type": "code",
   "execution_count": 241,
   "metadata": {
    "collapsed": false
   },
   "outputs": [
    {
     "name": "stdout",
     "output_type": "stream",
     "text": [
      "Number of samples with RIN < 6.0: 60\n"
     ]
    },
    {
     "data": {
      "text/plain": [
       "Colon adenocarcinoma                                                13\n",
       "Breast invasive carcinoma                                           13\n",
       "Lung adenocarcinoma                                                 12\n",
       "Kidney renal clear cell carcinoma                                    6\n",
       "Uterine Corpus Endometrioid Carcinoma                                4\n",
       "Prostate adenocarcinoma                                              4\n",
       "Bladder Urothelial Carcinoma                                         3\n",
       "Rectum adenocarcinoma                                                1\n",
       "Cervical squamous cell carcinoma and endocervical adenocarcinoma     1\n",
       "Lung squamous cell carcinoma                                         1\n",
       "Glioblastoma multiforme                                              1\n",
       "Liver hepatocellular carcinoma                                       1\n",
       "Name: disease, dtype: int64"
      ]
     },
     "execution_count": 241,
     "metadata": {},
     "output_type": "execute_result"
    }
   ],
   "source": [
    "print 'Number of samples with RIN < 6.0: ' + str(len(out[out.rin < 6]))\n",
    "out[out.rin < 6].disease.value_counts()"
   ]
  },
  {
   "cell_type": "markdown",
   "metadata": {},
   "source": [
    "Which samples have NaN values?"
   ]
  },
  {
   "cell_type": "code",
   "execution_count": 238,
   "metadata": {
    "collapsed": false
   },
   "outputs": [
    {
     "data": {
      "text/plain": [
       "Glioblastoma multiforme    52\n",
       "Rectum adenocarcinoma       1\n",
       "Name: disease, dtype: int64"
      ]
     },
     "execution_count": 238,
     "metadata": {},
     "output_type": "execute_result"
    }
   ],
   "source": [
    "out[pd.isnull(out.rin)].disease.value_counts()"
   ]
  },
  {
   "cell_type": "code",
   "execution_count": 242,
   "metadata": {
    "collapsed": true
   },
   "outputs": [],
   "source": [
    "out = out.sort_values('rin')"
   ]
  },
  {
   "cell_type": "markdown",
   "metadata": {},
   "source": [
    "Save the output table"
   ]
  },
  {
   "cell_type": "code",
   "execution_count": 244,
   "metadata": {
    "collapsed": true
   },
   "outputs": [],
   "source": [
    "out.to_csv('tcga_rin_values.tsv', sep='\\t')"
   ]
  },
  {
   "cell_type": "markdown",
   "metadata": {},
   "source": [
    "This tcga_rin_values.tsv can be downloaded from [Synapse](Synpase.org) under the id: `syn7499606`"
   ]
  }
 ],
 "metadata": {
  "kernelspec": {
   "display_name": "Python 2",
   "language": "python",
   "name": "python2"
  },
  "language_info": {
   "codemirror_mode": {
    "name": "ipython",
    "version": 2.0
   },
   "file_extension": ".py",
   "mimetype": "text/x-python",
   "name": "python",
   "nbconvert_exporter": "python",
   "pygments_lexer": "ipython2",
   "version": "2.7.11"
  }
 },
 "nbformat": 4,
 "nbformat_minor": 0
}