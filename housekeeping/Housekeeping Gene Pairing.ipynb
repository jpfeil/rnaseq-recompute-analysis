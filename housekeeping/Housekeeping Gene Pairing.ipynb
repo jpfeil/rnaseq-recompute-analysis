{
 "cells": [
  {
   "cell_type": "code",
   "execution_count": 65,
   "metadata": {
    "collapsed": false
   },
   "outputs": [],
   "source": [
    "%matplotlib inline\n",
    "import pandas as pd\n",
    "import numpy as np\n",
    "import matplotlib.pyplot as plt\n",
    "from matplotlib_venn import venn2"
   ]
  },
  {
   "cell_type": "markdown",
   "metadata": {},
   "source": [
    "# Housekeeping Gene Pairing\n",
    "\n",
    "Author: John Vivian\n",
    "\n",
    "Read in housekeeping gene list taken from the paper [Human Housekeeping Genes, Revisited](http://dx.doi.org/10.1016/j.tig.2013.05.010), which can be found on their [supplementary page](https://www.tau.ac.il/~elieis/HKG/)."
   ]
  },
  {
   "cell_type": "code",
   "execution_count": 30,
   "metadata": {
    "collapsed": false,
    "scrolled": true
   },
   "outputs": [
    {
     "data": {
      "text/html": [
       "<div>\n",
       "<table border=\"1\" class=\"dataframe\">\n",
       "  <thead>\n",
       "    <tr style=\"text-align: right;\">\n",
       "      <th></th>\n",
       "      <th>gene</th>\n",
       "      <th>refSeqId</th>\n",
       "    </tr>\n",
       "  </thead>\n",
       "  <tbody>\n",
       "    <tr>\n",
       "      <th>0</th>\n",
       "      <td>AAAS</td>\n",
       "      <td>NM_015665</td>\n",
       "    </tr>\n",
       "    <tr>\n",
       "      <th>1</th>\n",
       "      <td>AAGAB</td>\n",
       "      <td>NM_024666</td>\n",
       "    </tr>\n",
       "  </tbody>\n",
       "</table>\n",
       "</div>"
      ],
      "text/plain": [
       "     gene   refSeqId\n",
       "0   AAAS   NM_015665\n",
       "1  AAGAB   NM_024666"
      ]
     },
     "execution_count": 30,
     "metadata": {},
     "output_type": "execute_result"
    }
   ],
   "source": [
    "hk = pd.read_csv('HK_genes.txt', sep='\\t', header=None)\n",
    "hk.columns = ['gene', 'refSeqId']\n",
    "hk.head(2)"
   ]
  },
  {
   "cell_type": "markdown",
   "metadata": {},
   "source": [
    "We'll now pair it to the ENSEMBL gene names using attribute information. The attribute file can be pulled from [Synapse](www.synapse.org) using the id: `syn7248857`."
   ]
  },
  {
   "cell_type": "code",
   "execution_count": 18,
   "metadata": {
    "collapsed": false
   },
   "outputs": [
    {
     "data": {
      "text/html": [
       "<div>\n",
       "<table border=\"1\" class=\"dataframe\">\n",
       "  <thead>\n",
       "    <tr style=\"text-align: right;\">\n",
       "      <th></th>\n",
       "      <th>geneId</th>\n",
       "      <th>geneName</th>\n",
       "      <th>geneType</th>\n",
       "      <th>geneStatus</th>\n",
       "      <th>transcriptId</th>\n",
       "      <th>transcriptName</th>\n",
       "      <th>transcriptType</th>\n",
       "      <th>transcriptStatus</th>\n",
       "      <th>havanaGeneId</th>\n",
       "      <th>havanaTranscriptId</th>\n",
       "      <th>ccdsId</th>\n",
       "      <th>level</th>\n",
       "      <th>transcriptClass</th>\n",
       "    </tr>\n",
       "  </thead>\n",
       "  <tbody>\n",
       "    <tr>\n",
       "      <th>0</th>\n",
       "      <td>ENSG00000223972.5</td>\n",
       "      <td>DDX11L1</td>\n",
       "      <td>transcribed_unprocessed_pseudogene</td>\n",
       "      <td>KNOWN</td>\n",
       "      <td>ENST00000456328.2</td>\n",
       "      <td>DDX11L1-002</td>\n",
       "      <td>processed_transcript</td>\n",
       "      <td>KNOWN</td>\n",
       "      <td>OTTHUMG00000000961.2</td>\n",
       "      <td>OTTHUMT00000362751.1</td>\n",
       "      <td>NaN</td>\n",
       "      <td>2</td>\n",
       "      <td>pseudo</td>\n",
       "    </tr>\n",
       "    <tr>\n",
       "      <th>1</th>\n",
       "      <td>ENSG00000223972.5</td>\n",
       "      <td>DDX11L1</td>\n",
       "      <td>transcribed_unprocessed_pseudogene</td>\n",
       "      <td>KNOWN</td>\n",
       "      <td>ENST00000450305.2</td>\n",
       "      <td>DDX11L1-001</td>\n",
       "      <td>transcribed_unprocessed_pseudogene</td>\n",
       "      <td>KNOWN</td>\n",
       "      <td>OTTHUMG00000000961.2</td>\n",
       "      <td>OTTHUMT00000002844.2</td>\n",
       "      <td>NaN</td>\n",
       "      <td>2</td>\n",
       "      <td>pseudo</td>\n",
       "    </tr>\n",
       "  </tbody>\n",
       "</table>\n",
       "</div>"
      ],
      "text/plain": [
       "              geneId geneName                            geneType geneStatus  \\\n",
       "0  ENSG00000223972.5  DDX11L1  transcribed_unprocessed_pseudogene      KNOWN   \n",
       "1  ENSG00000223972.5  DDX11L1  transcribed_unprocessed_pseudogene      KNOWN   \n",
       "\n",
       "        transcriptId transcriptName                      transcriptType  \\\n",
       "0  ENST00000456328.2    DDX11L1-002                processed_transcript   \n",
       "1  ENST00000450305.2    DDX11L1-001  transcribed_unprocessed_pseudogene   \n",
       "\n",
       "  transcriptStatus          havanaGeneId    havanaTranscriptId ccdsId  level  \\\n",
       "0            KNOWN  OTTHUMG00000000961.2  OTTHUMT00000362751.1    NaN      2   \n",
       "1            KNOWN  OTTHUMG00000000961.2  OTTHUMT00000002844.2    NaN      2   \n",
       "\n",
       "  transcriptClass  \n",
       "0          pseudo  \n",
       "1          pseudo  "
      ]
     },
     "execution_count": 18,
     "metadata": {},
     "output_type": "execute_result"
    }
   ],
   "source": [
    "attr = pd.read_csv('attrs.tsv', sep='\\t')\n",
    "attr.head(2)"
   ]
  },
  {
   "cell_type": "markdown",
   "metadata": {},
   "source": [
    "Create dictionary mapping geneId to GeneName"
   ]
  },
  {
   "cell_type": "code",
   "execution_count": 23,
   "metadata": {
    "collapsed": false
   },
   "outputs": [],
   "source": [
    "gene_map = {}\n",
    "for i in attr.index:\n",
    "    gene_map[attr.loc[i].geneName] = attr.loc[i].geneId"
   ]
  },
  {
   "cell_type": "markdown",
   "metadata": {},
   "source": [
    "Create dataframe of Ensembl Id, geneName"
   ]
  },
  {
   "cell_type": "code",
   "execution_count": 36,
   "metadata": {
    "collapsed": false
   },
   "outputs": [],
   "source": [
    "hk_genes = [x.strip() for x in hk.gene]\n",
    "ens_ids = []\n",
    "for gene in hk_genes:\n",
    "    try:\n",
    "        ens_ids.append(gene_map[gene])\n",
    "    except KeyError:\n",
    "        ens_ids.append(np.nan)"
   ]
  },
  {
   "cell_type": "code",
   "execution_count": 41,
   "metadata": {
    "collapsed": false,
    "scrolled": true
   },
   "outputs": [
    {
     "data": {
      "text/html": [
       "<div>\n",
       "<table border=\"1\" class=\"dataframe\">\n",
       "  <thead>\n",
       "    <tr style=\"text-align: right;\">\n",
       "      <th></th>\n",
       "      <th>hk_gene</th>\n",
       "      <th>gene_id</th>\n",
       "    </tr>\n",
       "  </thead>\n",
       "  <tbody>\n",
       "    <tr>\n",
       "      <th>0</th>\n",
       "      <td>AAAS</td>\n",
       "      <td>ENSG00000094914.12</td>\n",
       "    </tr>\n",
       "    <tr>\n",
       "      <th>1</th>\n",
       "      <td>AAGAB</td>\n",
       "      <td>ENSG00000103591.12</td>\n",
       "    </tr>\n",
       "  </tbody>\n",
       "</table>\n",
       "</div>"
      ],
      "text/plain": [
       "  hk_gene             gene_id\n",
       "0    AAAS  ENSG00000094914.12\n",
       "1   AAGAB  ENSG00000103591.12"
      ]
     },
     "execution_count": 41,
     "metadata": {},
     "output_type": "execute_result"
    }
   ],
   "source": [
    "df = pd.DataFrame()\n",
    "df['hk_gene'] = hk_genes\n",
    "df['gene_id'] = ens_ids\n",
    "df.head(2)"
   ]
  },
  {
   "cell_type": "markdown",
   "metadata": {},
   "source": [
    "How many hk_gene's are we missing an ENSG id for?"
   ]
  },
  {
   "cell_type": "code",
   "execution_count": 45,
   "metadata": {
    "collapsed": false
   },
   "outputs": [
    {
     "name": "stdout",
     "output_type": "stream",
     "text": [
      "Total Number of hk genes: 3804\n",
      "Number of missing ENSG ids: 57\n"
     ]
    }
   ],
   "source": [
    "print 'Total Number of hk genes: ' + str(len(df))\n",
    "print 'Number of missing ENSG ids: ' + str(len(df[pd.isnull(df.gene_id)]))"
   ]
  },
  {
   "cell_type": "markdown",
   "metadata": {},
   "source": [
    "Save the dataframe"
   ]
  },
  {
   "cell_type": "code",
   "execution_count": 50,
   "metadata": {
    "collapsed": true
   },
   "outputs": [],
   "source": [
    "df.to_csv('hk_genes.tsv', sep='\\t')"
   ]
  },
  {
   "cell_type": "markdown",
   "metadata": {},
   "source": [
    "## Compare to GTEx \"All vs All\"\n",
    "\n",
    "Differential expression was run between all tisuses of GTEx - we'll compare the results from this analysis with the literature results.\n",
    "\n",
    "Experimental design for this DE was: \"Group was the broad tissue type. Eg `group<-c(brain, adipose, ovary, brain,...)`\""
   ]
  },
  {
   "cell_type": "code",
   "execution_count": 53,
   "metadata": {
    "collapsed": true
   },
   "outputs": [],
   "source": [
    "gtex = pd.read_csv('allVsAll.tsv', sep='\\t', index_col=0)"
   ]
  },
  {
   "cell_type": "code",
   "execution_count": 77,
   "metadata": {
    "collapsed": false
   },
   "outputs": [
    {
     "data": {
      "text/html": [
       "<div>\n",
       "<table border=\"1\" class=\"dataframe\">\n",
       "  <thead>\n",
       "    <tr style=\"text-align: right;\">\n",
       "      <th></th>\n",
       "      <th>logFC</th>\n",
       "      <th>logCPM</th>\n",
       "      <th>F</th>\n",
       "      <th>PValue</th>\n",
       "    </tr>\n",
       "  </thead>\n",
       "  <tbody>\n",
       "    <tr>\n",
       "      <th>ENSG00000185231.4</th>\n",
       "      <td>5.276308</td>\n",
       "      <td>4.291967</td>\n",
       "      <td>4392.500223</td>\n",
       "      <td>0.0</td>\n",
       "    </tr>\n",
       "    <tr>\n",
       "      <th>ENSG00000185559.13</th>\n",
       "      <td>2.587887</td>\n",
       "      <td>5.555445</td>\n",
       "      <td>2126.169758</td>\n",
       "      <td>0.0</td>\n",
       "    </tr>\n",
       "    <tr>\n",
       "      <th>ENSG00000148795.5</th>\n",
       "      <td>1.962417</td>\n",
       "      <td>5.743916</td>\n",
       "      <td>4817.744019</td>\n",
       "      <td>0.0</td>\n",
       "    </tr>\n",
       "    <tr>\n",
       "      <th>ENSG00000163646.10</th>\n",
       "      <td>4.893440</td>\n",
       "      <td>4.198657</td>\n",
       "      <td>3260.657202</td>\n",
       "      <td>0.0</td>\n",
       "    </tr>\n",
       "    <tr>\n",
       "      <th>ENSG00000122584.12</th>\n",
       "      <td>4.674667</td>\n",
       "      <td>4.816628</td>\n",
       "      <td>3983.953540</td>\n",
       "      <td>0.0</td>\n",
       "    </tr>\n",
       "  </tbody>\n",
       "</table>\n",
       "</div>"
      ],
      "text/plain": [
       "                       logFC    logCPM            F  PValue\n",
       "ENSG00000185231.4   5.276308  4.291967  4392.500223     0.0\n",
       "ENSG00000185559.13  2.587887  5.555445  2126.169758     0.0\n",
       "ENSG00000148795.5   1.962417  5.743916  4817.744019     0.0\n",
       "ENSG00000163646.10  4.893440  4.198657  3260.657202     0.0\n",
       "ENSG00000122584.12  4.674667  4.816628  3983.953540     0.0"
      ]
     },
     "execution_count": 77,
     "metadata": {},
     "output_type": "execute_result"
    }
   ],
   "source": [
    "gtex = gtex.sort_values('PValue')\n",
    "gtex.head()"
   ]
  },
  {
   "cell_type": "markdown",
   "metadata": {},
   "source": [
    "Housekeeping genes should be uniform and \n",
    "Subset dataframe to keep everything with |fold change| < 2 and pval > 0.05"
   ]
  },
  {
   "cell_type": "code",
   "execution_count": 241,
   "metadata": {
    "collapsed": false
   },
   "outputs": [
    {
     "data": {
      "text/html": [
       "<div>\n",
       "<table border=\"1\" class=\"dataframe\">\n",
       "  <thead>\n",
       "    <tr style=\"text-align: right;\">\n",
       "      <th></th>\n",
       "      <th>logFC</th>\n",
       "      <th>logCPM</th>\n",
       "      <th>F</th>\n",
       "      <th>PValue</th>\n",
       "    </tr>\n",
       "  </thead>\n",
       "  <tbody>\n",
       "    <tr>\n",
       "      <th>ENSG00000145416.13</th>\n",
       "      <td>-0.128456</td>\n",
       "      <td>6.224269</td>\n",
       "      <td>101.769607</td>\n",
       "      <td>0.010001</td>\n",
       "    </tr>\n",
       "    <tr>\n",
       "      <th>ENSG00000143546.9</th>\n",
       "      <td>-0.123879</td>\n",
       "      <td>6.277935</td>\n",
       "      <td>12.665578</td>\n",
       "      <td>0.010007</td>\n",
       "    </tr>\n",
       "    <tr>\n",
       "      <th>ENSG00000100211.10</th>\n",
       "      <td>0.118076</td>\n",
       "      <td>6.355920</td>\n",
       "      <td>346.578391</td>\n",
       "      <td>0.010013</td>\n",
       "    </tr>\n",
       "    <tr>\n",
       "      <th>ENSG00000187607.15</th>\n",
       "      <td>0.126493</td>\n",
       "      <td>6.196813</td>\n",
       "      <td>224.918519</td>\n",
       "      <td>0.010016</td>\n",
       "    </tr>\n",
       "    <tr>\n",
       "      <th>ENSG00000105953.14</th>\n",
       "      <td>0.104822</td>\n",
       "      <td>6.698630</td>\n",
       "      <td>328.064705</td>\n",
       "      <td>0.010021</td>\n",
       "    </tr>\n",
       "  </tbody>\n",
       "</table>\n",
       "</div>"
      ],
      "text/plain": [
       "                       logFC    logCPM           F    PValue\n",
       "ENSG00000145416.13 -0.128456  6.224269  101.769607  0.010001\n",
       "ENSG00000143546.9  -0.123879  6.277935   12.665578  0.010007\n",
       "ENSG00000100211.10  0.118076  6.355920  346.578391  0.010013\n",
       "ENSG00000187607.15  0.126493  6.196813  224.918519  0.010016\n",
       "ENSG00000105953.14  0.104822  6.698630  328.064705  0.010021"
      ]
     },
     "execution_count": 241,
     "metadata": {},
     "output_type": "execute_result"
    }
   ],
   "source": [
    "hk_gtex = gtex[(np.absolute(gtex.logFC) < 1) & (gtex.PValue > 0.01)]\n",
    "hk_gtex.head()"
   ]
  },
  {
   "cell_type": "markdown",
   "metadata": {},
   "source": [
    "Compare set intersection of genes"
   ]
  },
  {
   "cell_type": "markdown",
   "metadata": {},
   "source": [
    "print 'Number of genes in gtex hk set: ' + str(len(hk_gtex))\n",
    "print 'Number of genes in hk literature set: ' + str(len(hk_genes))\n",
    "print 'Number of protein-coding genes: ' + str(len(gtex))"
   ]
  },
  {
   "cell_type": "code",
   "execution_count": 243,
   "metadata": {
    "collapsed": false
   },
   "outputs": [],
   "source": [
    "lit_set = set(ens_ids)\n",
    "lit_set.remove(np.nan)\n",
    "gtex_set = set(hk_gtex.index)"
   ]
  },
  {
   "cell_type": "code",
   "execution_count": 244,
   "metadata": {
    "collapsed": false
   },
   "outputs": [
    {
     "data": {
      "text/plain": [
       "10866"
      ]
     },
     "execution_count": 244,
     "metadata": {},
     "output_type": "execute_result"
    }
   ],
   "source": [
    "len(gtex_set)"
   ]
  },
  {
   "cell_type": "code",
   "execution_count": 245,
   "metadata": {
    "collapsed": false
   },
   "outputs": [
    {
     "data": {
      "image/png": "[encoded data removed]",
      "text/plain": [
       "<matplotlib.figure.Figure at 0x12b0ae190>"
      ]
     },
     "metadata": {},
     "output_type": "display_data"
    }
   ],
   "source": [
    "venn2((lit_set, gtex_set), set_labels=('Literature', 'GTEx DE (pval > 0.01)'), alpha=0.4)\n",
    "plt.savefig('Housekeeping_venn|.pdf', format='pdf')"
   ]
  },
  {
   "cell_type": "markdown",
   "metadata": {},
   "source": [
    "## Hypergeometric Significance Test\n",
    "\n",
    "[Info on the hypergeometric distribution](http://homepages.ulb.ac.be/~dgonze/TEACHING/hypergeom.pdf)\n",
    "\n",
    "[Probability Calculator](https://www.geneprof.org/GeneProf/tools/hypergeometric.jsp)\n",
    "\n",
    "Given the hypergeometric distribution\n",
    "$$P(x \\mid N,m,k) = \\frac{{{m}\\choose{x}}{{N-m}\\choose{k-x}}}{N\\choose{k}}$$\n",
    "\n",
    "we can compute the chance of _at least some value x_ by\n",
    "\n",
    "$$P(\\mbox{at least x} \\mid N,m,k) = 1 - \\sum_{i=0}^{x-1}P(i \\mid N,m,k)$$\n",
    "\n",
    "For our case\n",
    "\n",
    "$$ N = \\mbox{Total number of genes} = 19,741 $$\n",
    "$$ m = \\mbox{Literature housekeeping genes} = 3,804 $$\n",
    "$$ k = \\mbox{Housekeeping genes from DE} = 10,866 $$\n",
    "$$ x = \\mbox{intersection} = 2,995$$\n",
    "\n",
    "Which gives\n",
    "\n",
    "$$P(X >= 2,995) = 2.4 x 10^{-252}$$"
   ]
  },
  {
   "cell_type": "markdown",
   "metadata": {},
   "source": [
    "Questions:\n",
    "\n",
    "    What types of genes make up the set differences and the intersection?\n",
    "    Why might have DE found so many more housekeeping genes than the literature?\n",
    "    Can a heuristic be imposed onto the DE data such that it more closely resembles the literature set?"
   ]
  }
 ],
 "metadata": {
  "kernelspec": {
   "display_name": "Python 2",
   "language": "python",
   "name": "python2"
  },
  "language_info": {
   "codemirror_mode": {
    "name": "ipython",
    "version": 2
   },
   "file_extension": ".py",
   "mimetype": "text/x-python",
   "name": "python",
   "nbconvert_exporter": "python",
   "pygments_lexer": "ipython2",
   "version": "2.7.11"
  }
 },
 "nbformat": 4,
 "nbformat_minor": 0
}
